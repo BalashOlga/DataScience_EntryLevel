{
 "cells": [
  {
   "cell_type": "code",
   "execution_count": null,
   "id": "eae73baf-4307-4648-9e12-aa2a71dc4e4f",
   "metadata": {},
   "outputs": [],
   "source": [
    "# ДЗ1: Необходимо написать код на Python и оценить сложность алгоритма О(N)."
   ]
  },
  {
   "cell_type": "code",
   "execution_count": 3,
   "id": "2807ea0b-0d2c-41b1-94af-535a7f5ba2a2",
   "metadata": {},
   "outputs": [],
   "source": [
    "# Используя цикл, создать список, содержащий все целые числа от 1 до 10, и вывести его на экран\n",
    "test_list = []\n",
    "\n",
    "for i in range (1,11):\n",
    "    test_list.append(i)"
   ]
  },
  {
   "cell_type": "code",
   "execution_count": null,
   "id": "0b4748d2-9eb5-49a2-b3af-2d27c3bcf85a",
   "metadata": {},
   "outputs": [],
   "source": []
  },
  {
   "cell_type": "code",
   "execution_count": 4,
   "id": "0dbf78d7-72a6-4e60-baef-c21921d9aefe",
   "metadata": {},
   "outputs": [
    {
     "name": "stdout",
     "output_type": "stream",
     "text": [
      "[1, 2, 3, 4, 5, 6, 7, 8, 9, 10]\n"
     ]
    }
   ],
   "source": [
    "print (test_list)"
   ]
  },
  {
   "cell_type": "code",
   "execution_count": null,
   "id": "0889913b-a0bc-4c2e-95e4-d393bf22c020",
   "metadata": {},
   "outputs": [],
   "source": [
    "# для for i in range (1,11) сложность равна O(1)\n",
    "# для test_list.append(i) сложность равна O(1)\n",
    "# для print (test_list) сложность равна O(N)\n",
    "# Сложность всего алгоритма равна O(N)"
   ]
  }
 ],
 "metadata": {
  "kernelspec": {
   "display_name": "Python 3 (ipykernel)",
   "language": "python",
   "name": "python3"
  },
  "language_info": {
   "codemirror_mode": {
    "name": "ipython",
    "version": 3
   },
   "file_extension": ".py",
   "mimetype": "text/x-python",
   "name": "python",
   "nbconvert_exporter": "python",
   "pygments_lexer": "ipython3",
   "version": "3.12.7"
  }
 },
 "nbformat": 4,
 "nbformat_minor": 5
}
